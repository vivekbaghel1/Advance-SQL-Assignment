{
 "cells": [
  {
   "cell_type": "code",
   "execution_count": 425,
   "metadata": {},
   "outputs": [],
   "source": [
    "# Dependencies\n",
    "%matplotlib inline\n",
    "import matplotlib as pyplot\n",
    "from matplotlib import style\n",
    "style.use('fivethirtyeight')\n"
   ]
  },
  {
   "cell_type": "code",
   "execution_count": 426,
   "metadata": {},
   "outputs": [],
   "source": [
    "# Import Pandas \n",
    "import pandas as pd\n",
    "import numpy as np\n"
   ]
  },
  {
   "cell_type": "code",
   "execution_count": 427,
   "metadata": {},
   "outputs": [],
   "source": [
    "# Import Date-Time library\n",
    "import datetime as dt\n"
   ]
  },
  {
   "cell_type": "code",
   "execution_count": 428,
   "metadata": {},
   "outputs": [],
   "source": [
    "# Import SQL Alchemy Libraries\n",
    "import sqlalchemy\n",
    "from sqlalchemy.ext.automap import automap_base\n",
    "from sqlalchemy.orm import Session\n",
    "from sqlalchemy import create_engine, inspect, func\n"
   ]
  },
  {
   "cell_type": "code",
   "execution_count": 429,
   "metadata": {},
   "outputs": [],
   "source": [
    "# Import SQLite Database into engine \n",
    "engine = create_engine(\"sqlite:///./hawaii.sqlite\", echo=False)\n"
   ]
  },
  {
   "cell_type": "code",
   "execution_count": 430,
   "metadata": {},
   "outputs": [],
   "source": [
    "# Inspect the DataBase\n",
    "Inspector = inspect(engine)\n",
    "table = Inspector.get_table_names()"
   ]
  },
  {
   "cell_type": "code",
   "execution_count": 431,
   "metadata": {},
   "outputs": [
    {
     "name": "stdout",
     "output_type": "stream",
     "text": [
      "measurement\n",
      "---------------\n",
      "id INTEGER\n",
      "station TEXT\n",
      "date TEXT\n",
      "prcp FLOAT\n",
      "tobs FLOAT\n",
      " \n",
      "station\n",
      "---------------\n",
      "id INTEGER\n",
      "station TEXT\n",
      "name TEXT\n",
      "latitude FLOAT\n",
      "longitude FLOAT\n",
      "elevation FLOAT\n"
     ]
    }
   ],
   "source": [
    "# Get column names\n",
    "print(table[0])\n",
    "print(\"---------------\")\n",
    "for column in Inspector.get_columns(table[0]):\n",
    "    print(column['name'], column['type'])\n",
    "\n",
    "print(\" \")\n",
    "print(table[1])\n",
    "print(\"---------------\")\n",
    "for column in Inspector.get_columns(table[1]):\n",
    "    print(column['name'], column['type'])\n"
   ]
  },
  {
   "cell_type": "code",
   "execution_count": 432,
   "metadata": {},
   "outputs": [],
   "source": [
    "# Define Base Class to map the tables\n",
    "Base = automap_base()\n",
    "\n",
    "Base.prepare(engine,reflect=True)\n"
   ]
  },
  {
   "cell_type": "code",
   "execution_count": 433,
   "metadata": {},
   "outputs": [
    {
     "data": {
      "text/plain": [
       "['measurement', 'station']"
      ]
     },
     "execution_count": 433,
     "metadata": {},
     "output_type": "execute_result"
    }
   ],
   "source": [
    "# Find tables from the database\n",
    "Base.classes.keys()\n"
   ]
  },
  {
   "cell_type": "code",
   "execution_count": 434,
   "metadata": {},
   "outputs": [],
   "source": [
    "# Save each table in a table class \n",
    "Measurement = Base.classes.measurement\n",
    "Station = Base.classes.station\n"
   ]
  },
  {
   "cell_type": "code",
   "execution_count": 435,
   "metadata": {},
   "outputs": [],
   "source": [
    "# Create session from Python to DataBase\n",
    "session = Session(engine)\n"
   ]
  },
  {
   "cell_type": "code",
   "execution_count": 436,
   "metadata": {},
   "outputs": [
    {
     "name": "stdout",
     "output_type": "stream",
     "text": [
      "Number of Recorded Precipitation: 19550\n",
      "Latest Date: ('2017-08-23',)\n",
      "Latest Date: 2017-08-23\n",
      "2017 8 23\n",
      "<class 'int'>\n",
      "Last Year Date: 2016-08-23\n"
     ]
    }
   ],
   "source": [
    "# 1. Precipitation Analysis\n",
    "\n",
    "import time\n",
    "from datetime import datetime\n",
    "\n",
    "# Select Trip Start Date and Trip End Date\n",
    "trip_start = dt.date(2017,2,1)\n",
    "trip_end = dt.date(2017,2,16)\n",
    "\n",
    "\n",
    "# Design a query to retrieve the last 12 months of precipitation data.\n",
    "prec_count = session.query(Measurement.date).count()\n",
    "print(f\"Number of Recorded Precipitation: {prec_count}\")\n",
    "\n",
    "# Get the latest date from the table.\n",
    "max_date = session.query(Measurement.date).order_by(Measurement.date.desc()).first()\n",
    "print(f\"Latest Date: {max_date}\")\n",
    "\n",
    "#Split the date into integers\n",
    "max_date= max_date.date\n",
    "print(f\"Latest Date: {max_date}\")\n",
    "\n",
    "# Split the Year, Date and Month \n",
    "year = max_date.split('-')\n",
    "yr=int(year[0])\n",
    "mt=int(year[1])\n",
    "dy=int(year[2])\n",
    "print(yr,mt,dy)\n",
    "print(type(yr))\n",
    "\n",
    "#m_date = datetime.fromtimestamp(max_date).strftime('%Y-%m-%d')\n",
    "#print()\n",
    "last_12_month = dt.date(yr,mt,dy) - dt.timedelta(days=365)\n",
    "# Get past year date by subtracting 365 days from the max date \n",
    "#last_12_month = dt.date(2017,8,23) - dt.timedelta(days=365)\n",
    "print(f\"Last Year Date: {last_12_month}\")\n"
   ]
  },
  {
   "cell_type": "code",
   "execution_count": 437,
   "metadata": {},
   "outputs": [
    {
     "name": "stdout",
     "output_type": "stream",
     "text": [
      "('2016-08-23', 0.0)\n",
      "('2016-08-23', 0.15)\n",
      "('2016-08-23', 0.05)\n",
      "('2016-08-23', None)\n",
      "('2016-08-23', 0.02)\n",
      "('2016-08-23', 1.79)\n",
      "('2016-08-23', 0.7)\n",
      "('2016-08-24', 0.08)\n",
      "('2016-08-24', 2.15)\n",
      "('2016-08-24', 2.28)\n"
     ]
    }
   ],
   "source": [
    "# Retreive last 12 months Precipation Data from the Measurement Table.\n",
    "prec_data = session.query(Measurement.date, Measurement.prcp).filter(Measurement.date>=last_12_month)\\\n",
    "                    .order_by(Measurement.date).all()\n",
    "\n",
    "for data in prec_data[:10]:\n",
    "    print(data)\n",
    "\n",
    "#data.date\n"
   ]
  },
  {
   "cell_type": "code",
   "execution_count": 438,
   "metadata": {},
   "outputs": [
    {
     "data": {
      "text/html": [
       "<div>\n",
       "<style scoped>\n",
       "    .dataframe tbody tr th:only-of-type {\n",
       "        vertical-align: middle;\n",
       "    }\n",
       "\n",
       "    .dataframe tbody tr th {\n",
       "        vertical-align: top;\n",
       "    }\n",
       "\n",
       "    .dataframe thead th {\n",
       "        text-align: right;\n",
       "    }\n",
       "</style>\n",
       "<table border=\"1\" class=\"dataframe\">\n",
       "  <thead>\n",
       "    <tr style=\"text-align: right;\">\n",
       "      <th></th>\n",
       "      <th>prcp</th>\n",
       "    </tr>\n",
       "    <tr>\n",
       "      <th>date</th>\n",
       "      <th></th>\n",
       "    </tr>\n",
       "  </thead>\n",
       "  <tbody>\n",
       "    <tr>\n",
       "      <th>2016-08-23</th>\n",
       "      <td>0.00</td>\n",
       "    </tr>\n",
       "    <tr>\n",
       "      <th>2016-08-23</th>\n",
       "      <td>0.15</td>\n",
       "    </tr>\n",
       "    <tr>\n",
       "      <th>2016-08-23</th>\n",
       "      <td>0.05</td>\n",
       "    </tr>\n",
       "    <tr>\n",
       "      <th>2016-08-23</th>\n",
       "      <td>0.02</td>\n",
       "    </tr>\n",
       "    <tr>\n",
       "      <th>2016-08-23</th>\n",
       "      <td>1.79</td>\n",
       "    </tr>\n",
       "    <tr>\n",
       "      <th>2016-08-23</th>\n",
       "      <td>0.70</td>\n",
       "    </tr>\n",
       "    <tr>\n",
       "      <th>2016-08-24</th>\n",
       "      <td>0.08</td>\n",
       "    </tr>\n",
       "    <tr>\n",
       "      <th>2016-08-24</th>\n",
       "      <td>2.15</td>\n",
       "    </tr>\n",
       "    <tr>\n",
       "      <th>2016-08-24</th>\n",
       "      <td>2.28</td>\n",
       "    </tr>\n",
       "    <tr>\n",
       "      <th>2016-08-24</th>\n",
       "      <td>1.22</td>\n",
       "    </tr>\n",
       "  </tbody>\n",
       "</table>\n",
       "</div>"
      ],
      "text/plain": [
       "            prcp\n",
       "date            \n",
       "2016-08-23  0.00\n",
       "2016-08-23  0.15\n",
       "2016-08-23  0.05\n",
       "2016-08-23  0.02\n",
       "2016-08-23  1.79\n",
       "2016-08-23  0.70\n",
       "2016-08-24  0.08\n",
       "2016-08-24  2.15\n",
       "2016-08-24  2.28\n",
       "2016-08-24  1.22"
      ]
     },
     "execution_count": 438,
     "metadata": {},
     "output_type": "execute_result"
    }
   ],
   "source": [
    "# Convert the Precipitation Data into DataFrame\n",
    "prec_df = pd.DataFrame(prec_data,index=None)\n",
    "\n",
    "# Drop Non-Numeric Rows\n",
    "prec_df = prec_df.dropna()\n",
    "\n",
    "# Display DataFrame\n",
    "prec_df.head(10)\n",
    "\n",
    "# Set Index on Date Column\n",
    "prec_df = prec_df.set_index('date')\n",
    "\n",
    "# Display DataFrame\n",
    "prec_df.head(10)\n"
   ]
  },
  {
   "cell_type": "code",
   "execution_count": 439,
   "metadata": {},
   "outputs": [
    {
     "data": {
      "image/png": "[encoded data removed]",
      "text/plain": [
       "<Figure size 720x576 with 1 Axes>"
      ]
     },
     "metadata": {},
     "output_type": "display_data"
    }
   ],
   "source": [
    "# Plot the results using the DataFrame plot method.\n",
    "# Plot the Precipitation Data\n",
    "import matplotlib.pyplot as plt\n",
    "\n",
    "plt.figure(figsize=(10,8))\n",
    "plt.plot(prec_df['prcp'])\n",
    "plt.xticks([])\n",
    "plt.grid(alpha=True)\n",
    "plt.legend([\"Precipitation\"],loc='best')\n",
    "plt.title(\"Precipitation Analysis\")\n",
    "plt.xlabel('Dates (Last 12 Months)')\n",
    "plt.ylabel('Precipitation in Inches')\n",
    "\n",
    "plt.tight_layout()\n",
    "plt.savefig('Precipitation.png')\n",
    "plt.show()\n"
   ]
  },
  {
   "cell_type": "code",
   "execution_count": 440,
   "metadata": {},
   "outputs": [
    {
     "data": {
      "text/html": [
       "<div>\n",
       "<style scoped>\n",
       "    .dataframe tbody tr th:only-of-type {\n",
       "        vertical-align: middle;\n",
       "    }\n",
       "\n",
       "    .dataframe tbody tr th {\n",
       "        vertical-align: top;\n",
       "    }\n",
       "\n",
       "    .dataframe thead th {\n",
       "        text-align: right;\n",
       "    }\n",
       "</style>\n",
       "<table border=\"1\" class=\"dataframe\">\n",
       "  <thead>\n",
       "    <tr style=\"text-align: right;\">\n",
       "      <th></th>\n",
       "      <th>prcp</th>\n",
       "    </tr>\n",
       "  </thead>\n",
       "  <tbody>\n",
       "    <tr>\n",
       "      <th>count</th>\n",
       "      <td>2021.000000</td>\n",
       "    </tr>\n",
       "    <tr>\n",
       "      <th>mean</th>\n",
       "      <td>0.177279</td>\n",
       "    </tr>\n",
       "    <tr>\n",
       "      <th>std</th>\n",
       "      <td>0.461190</td>\n",
       "    </tr>\n",
       "    <tr>\n",
       "      <th>min</th>\n",
       "      <td>0.000000</td>\n",
       "    </tr>\n",
       "    <tr>\n",
       "      <th>25%</th>\n",
       "      <td>0.000000</td>\n",
       "    </tr>\n",
       "    <tr>\n",
       "      <th>50%</th>\n",
       "      <td>0.020000</td>\n",
       "    </tr>\n",
       "    <tr>\n",
       "      <th>75%</th>\n",
       "      <td>0.130000</td>\n",
       "    </tr>\n",
       "    <tr>\n",
       "      <th>max</th>\n",
       "      <td>6.700000</td>\n",
       "    </tr>\n",
       "  </tbody>\n",
       "</table>\n",
       "</div>"
      ],
      "text/plain": [
       "              prcp\n",
       "count  2021.000000\n",
       "mean      0.177279\n",
       "std       0.461190\n",
       "min       0.000000\n",
       "25%       0.000000\n",
       "50%       0.020000\n",
       "75%       0.130000\n",
       "max       6.700000"
      ]
     },
     "execution_count": 440,
     "metadata": {},
     "output_type": "execute_result"
    }
   ],
   "source": [
    "# Use Pandas to print the summary statistics for the precipitation data.\n",
    "# Use \"Describe\" method\n",
    "\n",
    "prec_df.describe()\n"
   ]
  },
  {
   "cell_type": "code",
   "execution_count": 441,
   "metadata": {},
   "outputs": [],
   "source": [
    "# Station Analysis\n"
   ]
  },
  {
   "cell_type": "code",
   "execution_count": 442,
   "metadata": {},
   "outputs": [
    {
     "name": "stdout",
     "output_type": "stream",
     "text": [
      "Total number of stations 9\n",
      " ---Station Table---  \n",
      "1....USC00519397....WAIKIKI 717.2, HI US\n",
      "2....USC00513117....KANEOHE 838.1, HI US\n",
      "3....USC00514830....KUALOA RANCH HEADQUARTERS 886.9, HI US\n",
      "4....USC00517948....PEARL CITY, HI US\n",
      "5....USC00518838....UPPER WAHIAWA 874.3, HI US\n",
      "6....USC00519523....WAIMANALO EXPERIMENTAL FARM, HI US\n",
      "7....USC00519281....WAIHEE 837.5, HI US\n",
      "8....USC00511918....HONOLULU OBSERVATORY 702.2, HI US\n",
      "9....USC00516128....MANOA LYON ARBO 785.2, HI US\n",
      " \n",
      " ---Measurement Table---  \n",
      "1....USC00519397....65.0\n",
      "2....USC00519397....63.0\n",
      "3....USC00519397....74.0\n",
      "4....USC00519397....76.0\n",
      "5....USC00519397....73.0\n",
      "6....USC00519397....70.0\n",
      "7....USC00519397....64.0\n",
      "8....USC00519397....68.0\n",
      "9....USC00519397....73.0\n",
      "10....USC00519397....64.0\n",
      "11....USC00519397....61.0\n",
      "12....USC00519397....66.0\n",
      "13....USC00519397....65.0\n",
      "14....USC00519397....68.0\n",
      "15....USC00519397....64.0\n",
      "16....USC00519397....72.0\n",
      "17....USC00519397....66.0\n",
      "18....USC00519397....66.0\n",
      "19....USC00519397....69.0\n",
      "20....USC00519397....67.0\n"
     ]
    }
   ],
   "source": [
    "# Design a query to calculate the total number of stations.\n",
    "\n",
    "station_count = session.query(Station.id).count()\n",
    "print(\"Total number of stations\",station_count)\n",
    "\n",
    "# Check the values in both Measurement and Station Table\n",
    "\n",
    "print(\" ---Station Table---  \")\n",
    "station_name = session.query(Station.id,Station.station, Station.name).all()\n",
    "\n",
    "for station in station_name:\n",
    "    print(f\"{station.id}....{station.station}....{station.name}\")\n",
    "\n",
    "print(' ')\n",
    "\n",
    "print(' ---Measurement Table---  ')\n",
    "\n",
    "meas_name = session.query(Measurement.id,Measurement.station,Measurement.tobs).limit(20).all()\n",
    "\n",
    "for measure in meas_name:\n",
    "    print(f\"{measure.id}....{measure.station}....{measure.tobs}\")\n",
    "    \n"
   ]
  },
  {
   "cell_type": "code",
   "execution_count": 443,
   "metadata": {},
   "outputs": [
    {
     "name": "stdout",
     "output_type": "stream",
     "text": [
      "This station USC00519281 has 2772 observations.\n",
      "This station USC00519397 has 2724 observations.\n",
      "This station USC00513117 has 2709 observations.\n",
      "This station USC00519523 has 2669 observations.\n",
      "This station USC00516128 has 2612 observations.\n",
      "This station USC00514830 has 2202 observations.\n",
      "This station USC00511918 has 1979 observations.\n",
      "This station USC00517948 has 1372 observations.\n",
      "This station USC00518838 has 511 observations.\n",
      " \n",
      "----------------------------------------------------------------------------------------\n",
      "The busiest station is the station USC00519281 with observations count of 2772.\n",
      "----------------------------------------------------------------------------------------\n"
     ]
    }
   ],
   "source": [
    "# Design a query to find the most active stations.\n",
    "#List the stations and observation counts in descending order.\n",
    "\n",
    "active_station = session.query(Measurement.station,func.count(Measurement.tobs)).group_by(Measurement.station)\\\n",
    "                .order_by(func.count(Measurement.tobs).desc()).all()\n",
    "\n",
    "for record in active_station:\n",
    "    [station, count] = record\n",
    "    print(f\"This station {station} has {count} observations.\")\n",
    "\n",
    "\n",
    "#Which station has the highest number of observations?\n",
    "print(\" \")\n",
    "print(\"----------------------------------------------------------------------------------------\")\n",
    "print(f\"The busiest station is the station {active_station[0][0]} with observations count of {active_station[0][1]}.\")\n",
    "print(\"----------------------------------------------------------------------------------------\")\n",
    "\n"
   ]
  },
  {
   "cell_type": "code",
   "execution_count": 444,
   "metadata": {},
   "outputs": [
    {
     "name": "stdout",
     "output_type": "stream",
     "text": [
      "The most active station USC00519281 observations shown below.\n",
      "Minimum Temperature: 54.0 \n",
      "Maximum Temperature: 85.0 \n",
      "Average Temperature: 71.66\n",
      "Count Observed: 2772 \n"
     ]
    }
   ],
   "source": [
    "#Print the Minimum, Maximum and Average Temperatures for most active station\n",
    "#Hint: You may need to use functions such as func.min, func.max, func.avg, and func.count in your queries.\n",
    "\n",
    "sel = [Measurement.station,\n",
    "       func.min(Measurement.tobs),\n",
    "       func.max(Measurement.tobs),\n",
    "       func.avg(Measurement.tobs),\n",
    "       func.count(Measurement.tobs)]\n",
    "\n",
    "act_station_stat = session.query(*sel).group_by(Measurement.station).order_by(func.count(Measurement.tobs).desc()).all()\n",
    "\n",
    "print(f\"The most active station {act_station_stat[0][0]} observations shown below.\")\n",
    "print(f\"Minimum Temperature: {act_station_stat[0][1]} \")\n",
    "print(f\"Maximum Temperature: {act_station_stat[0][2]} \")\n",
    "print(\"Average Temperature:\",\"{0:.2f}\".format(act_station_stat[0][3]))\n",
    "print(f\"Count Observed: {act_station_stat[0][4]} \")\n"
   ]
  },
  {
   "cell_type": "code",
   "execution_count": 445,
   "metadata": {},
   "outputs": [
    {
     "data": {
      "text/html": [
       "<div>\n",
       "<style scoped>\n",
       "    .dataframe tbody tr th:only-of-type {\n",
       "        vertical-align: middle;\n",
       "    }\n",
       "\n",
       "    .dataframe tbody tr th {\n",
       "        vertical-align: top;\n",
       "    }\n",
       "\n",
       "    .dataframe thead th {\n",
       "        text-align: right;\n",
       "    }\n",
       "</style>\n",
       "<table border=\"1\" class=\"dataframe\">\n",
       "  <thead>\n",
       "    <tr style=\"text-align: right;\">\n",
       "      <th></th>\n",
       "      <th>tobs</th>\n",
       "    </tr>\n",
       "  </thead>\n",
       "  <tbody>\n",
       "    <tr>\n",
       "      <th>0</th>\n",
       "      <td>77.0</td>\n",
       "    </tr>\n",
       "    <tr>\n",
       "      <th>1</th>\n",
       "      <td>77.0</td>\n",
       "    </tr>\n",
       "    <tr>\n",
       "      <th>2</th>\n",
       "      <td>80.0</td>\n",
       "    </tr>\n",
       "    <tr>\n",
       "      <th>3</th>\n",
       "      <td>80.0</td>\n",
       "    </tr>\n",
       "    <tr>\n",
       "      <th>4</th>\n",
       "      <td>75.0</td>\n",
       "    </tr>\n",
       "    <tr>\n",
       "      <th>5</th>\n",
       "      <td>73.0</td>\n",
       "    </tr>\n",
       "    <tr>\n",
       "      <th>6</th>\n",
       "      <td>78.0</td>\n",
       "    </tr>\n",
       "    <tr>\n",
       "      <th>7</th>\n",
       "      <td>77.0</td>\n",
       "    </tr>\n",
       "    <tr>\n",
       "      <th>8</th>\n",
       "      <td>78.0</td>\n",
       "    </tr>\n",
       "    <tr>\n",
       "      <th>9</th>\n",
       "      <td>80.0</td>\n",
       "    </tr>\n",
       "  </tbody>\n",
       "</table>\n",
       "</div>"
      ],
      "text/plain": [
       "   tobs\n",
       "0  77.0\n",
       "1  77.0\n",
       "2  80.0\n",
       "3  80.0\n",
       "4  75.0\n",
       "5  73.0\n",
       "6  78.0\n",
       "7  77.0\n",
       "8  78.0\n",
       "9  80.0"
      ]
     },
     "execution_count": 445,
     "metadata": {},
     "output_type": "execute_result"
    }
   ],
   "source": [
    "# Design a query to retrieve the last 12 months of temperature observation data (tobs).\n",
    "#Filter by the station with the highest number of observations.\n",
    "# Most Active Station\n",
    "station = act_station_stat[0][0]\n",
    "\n",
    "#Query Last 12 months Temperatures for most active station\n",
    "last_year_temp = session.query(Measurement.tobs).filter(Measurement.date>=last_12_month).\\\n",
    "                filter(Measurement.station == station).order_by(Measurement.date).all()\n",
    "\n",
    "# Create a DataFrame for Temperatures\n",
    "temperature_df = pd.DataFrame(last_year_temp)\n",
    "temperature_df.head(10)\n",
    "\n"
   ]
  },
  {
   "cell_type": "code",
   "execution_count": 446,
   "metadata": {},
   "outputs": [
    {
     "data": {
      "image/png": "[encoded data removed]",
      "text/plain": [
       "<Figure size 864x576 with 1 Axes>"
      ]
     },
     "metadata": {},
     "output_type": "display_data"
    }
   ],
   "source": [
    "#Plot the results as a histogram with bins=12.\n",
    "plt.figure(figsize=(12,8))\n",
    "\n",
    "plt.hist(temperature_df['tobs'],bins=12)\n",
    "plt.legend([\"tobs\"],loc='best')\n",
    "plt.xlabel(f\"Temperature ({station})\")\n",
    "plt.ylabel(\"Ferquency\")\n",
    "plt.title(f\"Number of time the Temperature Recorded in last year for the station {station}\")\n",
    "\n",
    "plt.savefig('Temp Freq Histogram.png')\n",
    "plt.show()\n"
   ]
  },
  {
   "cell_type": "code",
   "execution_count": 447,
   "metadata": {},
   "outputs": [],
   "source": [
    "# Temperature Analysis (Optional)\n",
    "\n",
    "\n",
    "# The starter notebook contains a function called calc_temps that will accept a start date and end date \n",
    "#       in the format %Y-%m-%d and return the minimum, average, and maximum temperatures for that range of dates.\n",
    "# Use the calc_temps function to calculate the min, avg, and max temperatures for your trip using the \n",
    "#       matching dates from the previous year (i.e., use \"2017-01-01\" if your trip start date was \"2018-01-01\").\n",
    "\n",
    "#Plot the min, avg, and max temperature from your previous query as a bar chart.\n",
    "\n",
    "\n",
    "#Use the average temperature as the bar height.\n",
    "#Use the peak-to-peak (tmax-tmin) value as the y error bar (yerr)."
   ]
  },
  {
   "cell_type": "code",
   "execution_count": 448,
   "metadata": {},
   "outputs": [
    {
     "name": "stdout",
     "output_type": "stream",
     "text": [
      "Previous Year Trip Start Date: 2016-02-02\n",
      "Previous Year Trip End Date: 2016-02-17\n"
     ]
    }
   ],
   "source": [
    "# The starter notebook contains a function called calc_temps that will accept a start date and end date \n",
    "#       in the format %Y-%m-%d and return the minimum, average, and maximum temperatures for that range of dates.\n",
    "# Use the calc_temps function to calculate the min, avg, and max temperatures for your trip using the \n",
    "#       matching dates from the previous year (i.e., use \"2017-01-01\" if your trip start date was \"2018-01-01\").\n",
    "\n",
    "# Trip Previous Start Date and Trip Previous End Date\n",
    "trip_prev_start = trip_start - dt.timedelta(days=365)\n",
    "trip_prev_end = trip_end - dt.timedelta(days=365)\n",
    "\n",
    "print(f\"Previous Year Trip Start Date: {trip_prev_start}\")\n",
    "print(f\"Previous Year Trip End Date: {trip_prev_end}\")\n"
   ]
  },
  {
   "cell_type": "code",
   "execution_count": 449,
   "metadata": {},
   "outputs": [],
   "source": [
    "# Function to Calculate the Min, Max, Average Temperatures for the trip start date and end dates\n",
    "\n",
    "def calc_temp_prev(start_date,end_date):\n",
    "    return session.query( func.min(Measurement.tobs), func.max(Measurement.tobs), func.avg(Measurement.tobs)).\\\n",
    "           filter(Measurement.date >= start_date).filter(Measurement.date <= end_date).all()\n",
    "\n"
   ]
  },
  {
   "cell_type": "code",
   "execution_count": 450,
   "metadata": {},
   "outputs": [
    {
     "name": "stdout",
     "output_type": "stream",
     "text": [
      "[(56.0, 79.0, 69.6078431372549)]\n"
     ]
    }
   ],
   "source": [
    "# Call the function to return temperatures.\n",
    "\n",
    "trip_temp = calc_temp_prev(trip_prev_start,trip_prev_end)\n",
    "\n",
    "print(trip_temp)\n",
    "\n"
   ]
  },
  {
   "cell_type": "code",
   "execution_count": 451,
   "metadata": {},
   "outputs": [
    {
     "data": {
      "text/plain": [
       "[56.0, 79.0, 69.6078431372549]"
      ]
     },
     "execution_count": 451,
     "metadata": {},
     "output_type": "execute_result"
    }
   ],
   "source": [
    "# Unravel the list ttpyrs(Trip Temp Previous Year)\n",
    "ttpyrs = list(np.ravel(trip_temp))\n",
    "\n",
    "ttpyrs\n",
    "\n"
   ]
  },
  {
   "cell_type": "code",
   "execution_count": 452,
   "metadata": {},
   "outputs": [
    {
     "data": {
      "image/png": "[encoded data removed]",
      "text/plain": [
       "<Figure size 216x576 with 1 Axes>"
      ]
     },
     "metadata": {},
     "output_type": "display_data"
    }
   ],
   "source": [
    "#Plot the min, avg, and max temperature from your previous query as a bar chart.\n",
    "\n",
    "\n",
    "#Use the average temperature as the bar height.\n",
    "#Use the peak-to-peak (tmax-tmin) value as the y error bar (yerr).\n",
    "\n",
    "plt.figure(figsize=(3,8))\n",
    "\n",
    "# y-axis Error \n",
    "err = ttpyrs[1] - ttpyrs[0]\n",
    "\n",
    "# x-axis Range\n",
    "xaxis = np.arange(0.5,1,1.5)\n",
    "\n",
    "#Plot The Bar plot with error\n",
    "plt.bar(xaxis, ttpyrs[2],yerr=err,color='red',alpha=0.25)\n",
    "plt.xticks([])\n",
    "plt.ylim(0,110)\n",
    "plt.grid(True)\n",
    "plt.ylabel(\"Temp (F)\")\n",
    "plt.title(\"Trip Avg Temp\")\n",
    "\n",
    "plt.tight_layout()\n",
    "plt.savefig('Trip Avg Temp.png')\n",
    "plt.show()\n",
    "\n"
   ]
  },
  {
   "cell_type": "code",
   "execution_count": 453,
   "metadata": {},
   "outputs": [
    {
     "name": "stdout",
     "output_type": "stream",
     "text": [
      "[('USC00516128', 'MANOA LYON ARBO 785.2, HI US', 21.3331, -157.8025, 152.4, 1.36), ('USC00514830', 'KUALOA RANCH HEADQUARTERS 886.9, HI US', 21.5213, -157.8374, 7.0, 1.15), ('USC00519281', 'WAIHEE 837.5, HI US', 21.45167, -157.84888999999998, 32.9, 1.08), ('USC00513117', 'KANEOHE 838.1, HI US', 21.4234, -157.8015, 14.6, 1.06), ('USC00519523', 'WAIMANALO EXPERIMENTAL FARM, HI US', 21.33556, -157.71139, 19.5, 0.68), ('USC00519397', 'WAIKIKI 717.2, HI US', 21.2716, -157.8168, 3.0, 0.33999999999999997), ('USC00517948', 'PEARL CITY, HI US', 21.3934, -157.9751, 11.9, 0.0)]\n"
     ]
    }
   ],
   "source": [
    "# Calculate the rainfall per weather station for your trip dates using the previous year's matching dates.\n",
    "# Sort this in descending order by precipitation amount and list the station, name, latitude, longitude, and elevation\n",
    "\n",
    "total_prec_station = session.query( Station.station, Station.name, Station.latitude, Station.longitude, \\\n",
    "                                   Station.elevation, func.sum(Measurement.prcp)).\\\n",
    "                                    filter(Measurement.date >= trip_prev_start).\\\n",
    "                                    filter(Measurement.date <= trip_prev_end).\\\n",
    "                                    filter(Measurement.station == Station.station).\\\n",
    "                                    group_by(Station.station). order_by(func.sum(Measurement.prcp).desc()).all()\n",
    "\n",
    "print(total_prec_station)\n"
   ]
  },
  {
   "cell_type": "code",
   "execution_count": 454,
   "metadata": {},
   "outputs": [],
   "source": [
    "# Other Recommended Analysis (Optional)\n"
   ]
  },
  {
   "cell_type": "code",
   "execution_count": 455,
   "metadata": {},
   "outputs": [
    {
     "data": {
      "text/plain": [
       "[(62.0, 69.15384615384616, 77.0)]"
      ]
     },
     "execution_count": 455,
     "metadata": {},
     "output_type": "execute_result"
    }
   ],
   "source": [
    "# Create a query that will calculate the daily normals \n",
    "# (i.e. the averages for tmin, tmax, and tavg for all historic data matching a specific month and day)\n",
    "\n",
    "def daily_normals(date):\n",
    "    \"\"\"Daily Normals.\n",
    "    \n",
    "    Args:\n",
    "        date (str): A date string in the format '%m-%d'\n",
    "        \n",
    "    Returns:\n",
    "        A list of tuples containing the daily normals, tmin, tavg, and tmax\n",
    "    \n",
    "    \"\"\"\n",
    "    \n",
    "    sel = [func.min(Measurement.tobs), func.avg(Measurement.tobs), func.max(Measurement.tobs)]\n",
    "    return session.query(*sel).filter(func.strftime(\"%m-%d\", Measurement.date) == date).all()\n",
    "    \n",
    "daily_normals(\"01-01\")\n",
    "\n"
   ]
  },
  {
   "cell_type": "code",
   "execution_count": 456,
   "metadata": {},
   "outputs": [
    {
     "name": "stdout",
     "output_type": "stream",
     "text": [
      "['2016-02-02', '2016-02-03', '2016-02-04', '2016-02-05', '2016-02-06', '2016-02-07', '2016-02-08', '2016-02-09', '2016-02-10', '2016-02-11', '2016-02-12', '2016-02-13', '2016-02-14', '2016-02-15', '2016-02-16']\n",
      "['02-02', '02-03', '02-04', '02-05', '02-06', '02-07', '02-08', '02-09', '02-10', '02-11', '02-12', '02-13', '02-14', '02-15', '02-16']\n"
     ]
    }
   ],
   "source": [
    "# calculate the daily normals for your trip\n",
    "# push each tuple of calculations into a list called `normals`\n",
    "\n",
    "# Set the start and end date of the trip\n",
    "# Use the \n",
    "#        trip_prev_start = trip_start - dt.timedelta(days=365)\n",
    "#        trip_prev_end = trip_end - dt.timedelta(days=365)\n",
    "\n",
    "# Use the start and end date to create a range of dates\n",
    "\n",
    "#date_range_1 = np.arange(trip_prev_start, trip_prev_end)\n",
    "\n",
    "#print(date_range_1)\n",
    "#print(date_range_1[0])\n",
    "\n",
    "datelist = []\n",
    "\n",
    "for x in range(0,15):\n",
    "    x = 15-x\n",
    "    rec = trip_prev_end - dt.timedelta(days=x)\n",
    "    rec = '{:%Y-%m-%d}'.format(rec)\n",
    "    datelist.append(rec)\n",
    "\n",
    "print(datelist)\n",
    "\n",
    "# Strip the day and month from the dates.\n",
    "\n",
    "date_stripped =[]\n",
    "\n",
    "for x in datelist:\n",
    "    rec = x[5:]\n",
    "    date_stripped.append(rec)\n",
    "\n",
    "print(date_stripped)\n",
    "# Loop through the list of %m-%d strings and calculate the normals for each date\n",
    "\n"
   ]
  },
  {
   "cell_type": "code",
   "execution_count": 457,
   "metadata": {},
   "outputs": [
    {
     "name": "stdout",
     "output_type": "stream",
     "text": [
      "[{'Min': 59.0, 'Avg': 68.85964912280701, 'Max': 77.0}, {'Min': 58.0, 'Avg': 67.79661016949153, 'Max': 77.0}, {'Min': 61.0, 'Avg': 68.14035087719299, 'Max': 76.0}, {'Min': 59.0, 'Avg': 69.6842105263158, 'Max': 80.0}, {'Min': 58.0, 'Avg': 70.38983050847457, 'Max': 77.0}, {'Min': 60.0, 'Avg': 69.0, 'Max': 77.0}, {'Min': 56.0, 'Avg': 66.75438596491227, 'Max': 74.0}, {'Min': 57.0, 'Avg': 67.58928571428571, 'Max': 75.0}, {'Min': 56.0, 'Avg': 68.41666666666667, 'Max': 76.0}, {'Min': 61.0, 'Avg': 69.25, 'Max': 79.0}, {'Min': 60.0, 'Avg': 69.15789473684211, 'Max': 78.0}, {'Min': 58.0, 'Avg': 70.36206896551724, 'Max': 80.0}, {'Min': 62.0, 'Avg': 70.89473684210526, 'Max': 79.0}, {'Min': 56.0, 'Avg': 70.28813559322033, 'Max': 79.0}, {'Min': 59.0, 'Avg': 70.48214285714286, 'Max': 76.0}]\n"
     ]
    }
   ],
   "source": [
    "# Loop Thru\n",
    "\n",
    "sel = [func.min(Measurement.tobs), func.avg(Measurement.tobs), func.max(Measurement.tobs)]\n",
    "\n",
    "records_data = []\n",
    "\n",
    "for x in date_stripped:\n",
    "    dates_data = {}\n",
    "    res = session.query(*sel).filter(func.strftime(\"%m-%d\", Measurement.date) == x).all()\n",
    "    dates_data['Min']=res[0][0]\n",
    "    dates_data['Avg']=res[0][1]\n",
    "    dates_data['Max']=res[0][2]\n",
    "    records_data.append(dates_data)\n",
    "\n",
    "print(records_data)\n",
    "\n",
    "    "
   ]
  },
  {
   "cell_type": "code",
   "execution_count": 458,
   "metadata": {},
   "outputs": [
    {
     "data": {
      "text/html": [
       "<div>\n",
       "<style scoped>\n",
       "    .dataframe tbody tr th:only-of-type {\n",
       "        vertical-align: middle;\n",
       "    }\n",
       "\n",
       "    .dataframe tbody tr th {\n",
       "        vertical-align: top;\n",
       "    }\n",
       "\n",
       "    .dataframe thead th {\n",
       "        text-align: right;\n",
       "    }\n",
       "</style>\n",
       "<table border=\"1\" class=\"dataframe\">\n",
       "  <thead>\n",
       "    <tr style=\"text-align: right;\">\n",
       "      <th></th>\n",
       "      <th>Avg</th>\n",
       "      <th>Max</th>\n",
       "      <th>Min</th>\n",
       "      <th>Date</th>\n",
       "    </tr>\n",
       "    <tr>\n",
       "      <th>Date</th>\n",
       "      <th></th>\n",
       "      <th></th>\n",
       "      <th></th>\n",
       "      <th></th>\n",
       "    </tr>\n",
       "  </thead>\n",
       "  <tbody>\n",
       "    <tr>\n",
       "      <th>2016-02-02</th>\n",
       "      <td>68.859649</td>\n",
       "      <td>77.0</td>\n",
       "      <td>59.0</td>\n",
       "      <td>2016-02-02</td>\n",
       "    </tr>\n",
       "    <tr>\n",
       "      <th>2016-02-03</th>\n",
       "      <td>67.796610</td>\n",
       "      <td>77.0</td>\n",
       "      <td>58.0</td>\n",
       "      <td>2016-02-03</td>\n",
       "    </tr>\n",
       "    <tr>\n",
       "      <th>2016-02-04</th>\n",
       "      <td>68.140351</td>\n",
       "      <td>76.0</td>\n",
       "      <td>61.0</td>\n",
       "      <td>2016-02-04</td>\n",
       "    </tr>\n",
       "    <tr>\n",
       "      <th>2016-02-05</th>\n",
       "      <td>69.684211</td>\n",
       "      <td>80.0</td>\n",
       "      <td>59.0</td>\n",
       "      <td>2016-02-05</td>\n",
       "    </tr>\n",
       "    <tr>\n",
       "      <th>2016-02-06</th>\n",
       "      <td>70.389831</td>\n",
       "      <td>77.0</td>\n",
       "      <td>58.0</td>\n",
       "      <td>2016-02-06</td>\n",
       "    </tr>\n",
       "    <tr>\n",
       "      <th>2016-02-07</th>\n",
       "      <td>69.000000</td>\n",
       "      <td>77.0</td>\n",
       "      <td>60.0</td>\n",
       "      <td>2016-02-07</td>\n",
       "    </tr>\n",
       "    <tr>\n",
       "      <th>2016-02-08</th>\n",
       "      <td>66.754386</td>\n",
       "      <td>74.0</td>\n",
       "      <td>56.0</td>\n",
       "      <td>2016-02-08</td>\n",
       "    </tr>\n",
       "    <tr>\n",
       "      <th>2016-02-09</th>\n",
       "      <td>67.589286</td>\n",
       "      <td>75.0</td>\n",
       "      <td>57.0</td>\n",
       "      <td>2016-02-09</td>\n",
       "    </tr>\n",
       "    <tr>\n",
       "      <th>2016-02-10</th>\n",
       "      <td>68.416667</td>\n",
       "      <td>76.0</td>\n",
       "      <td>56.0</td>\n",
       "      <td>2016-02-10</td>\n",
       "    </tr>\n",
       "    <tr>\n",
       "      <th>2016-02-11</th>\n",
       "      <td>69.250000</td>\n",
       "      <td>79.0</td>\n",
       "      <td>61.0</td>\n",
       "      <td>2016-02-11</td>\n",
       "    </tr>\n",
       "    <tr>\n",
       "      <th>2016-02-12</th>\n",
       "      <td>69.157895</td>\n",
       "      <td>78.0</td>\n",
       "      <td>60.0</td>\n",
       "      <td>2016-02-12</td>\n",
       "    </tr>\n",
       "    <tr>\n",
       "      <th>2016-02-13</th>\n",
       "      <td>70.362069</td>\n",
       "      <td>80.0</td>\n",
       "      <td>58.0</td>\n",
       "      <td>2016-02-13</td>\n",
       "    </tr>\n",
       "    <tr>\n",
       "      <th>2016-02-14</th>\n",
       "      <td>70.894737</td>\n",
       "      <td>79.0</td>\n",
       "      <td>62.0</td>\n",
       "      <td>2016-02-14</td>\n",
       "    </tr>\n",
       "    <tr>\n",
       "      <th>2016-02-15</th>\n",
       "      <td>70.288136</td>\n",
       "      <td>79.0</td>\n",
       "      <td>56.0</td>\n",
       "      <td>2016-02-15</td>\n",
       "    </tr>\n",
       "    <tr>\n",
       "      <th>2016-02-16</th>\n",
       "      <td>70.482143</td>\n",
       "      <td>76.0</td>\n",
       "      <td>59.0</td>\n",
       "      <td>2016-02-16</td>\n",
       "    </tr>\n",
       "  </tbody>\n",
       "</table>\n",
       "</div>"
      ],
      "text/plain": [
       "                  Avg   Max   Min        Date\n",
       "Date                                         \n",
       "2016-02-02  68.859649  77.0  59.0  2016-02-02\n",
       "2016-02-03  67.796610  77.0  58.0  2016-02-03\n",
       "2016-02-04  68.140351  76.0  61.0  2016-02-04\n",
       "2016-02-05  69.684211  80.0  59.0  2016-02-05\n",
       "2016-02-06  70.389831  77.0  58.0  2016-02-06\n",
       "2016-02-07  69.000000  77.0  60.0  2016-02-07\n",
       "2016-02-08  66.754386  74.0  56.0  2016-02-08\n",
       "2016-02-09  67.589286  75.0  57.0  2016-02-09\n",
       "2016-02-10  68.416667  76.0  56.0  2016-02-10\n",
       "2016-02-11  69.250000  79.0  61.0  2016-02-11\n",
       "2016-02-12  69.157895  78.0  60.0  2016-02-12\n",
       "2016-02-13  70.362069  80.0  58.0  2016-02-13\n",
       "2016-02-14  70.894737  79.0  62.0  2016-02-14\n",
       "2016-02-15  70.288136  79.0  56.0  2016-02-15\n",
       "2016-02-16  70.482143  76.0  59.0  2016-02-16"
      ]
     },
     "execution_count": 458,
     "metadata": {},
     "output_type": "execute_result"
    }
   ],
   "source": [
    "# Convert Into DataFrame\n",
    "\n",
    "dt_temp_df = pd.DataFrame(records_data)\n",
    "dt_temp_df.head()\n",
    "\n",
    "# Add date Column to the dataframe\n",
    "dt_temp_df['Date']= datelist\n",
    "dt_temp_df.set_index(dt_temp_df['Date'],inplace=True,drop=True)\n",
    "dt_temp_df\n"
   ]
  },
  {
   "cell_type": "code",
   "execution_count": 459,
   "metadata": {},
   "outputs": [
    {
     "data": {
      "text/plain": [
       "<Figure size 1080x576 with 0 Axes>"
      ]
     },
     "metadata": {},
     "output_type": "display_data"
    },
    {
     "data": {
      "image/png": "[encoded data removed]",
      "text/plain": [
       "<Figure size 432x288 with 1 Axes>"
      ]
     },
     "metadata": {},
     "output_type": "display_data"
    }
   ],
   "source": [
    "# Plot the stacked area graph\n",
    "\n",
    "plt.figure(figsize=(15,8))\n",
    "\n",
    "xaxis = dt_temp_df['Date'].tolist()\n",
    "dt_temp_df.plot.area(stacked=False)\n",
    "plt.xticks(rotation=45)\n",
    "plt.ylabel(\"Temp (f)\")\n",
    "plt.ylim(0,90)\n",
    "plt.title('Daily Normal Temp for Trip Dates')\n",
    "\n",
    "plt.savefig('Daily Normal Temp.png')\n",
    "plt.show()\n"
   ]
  },
  {
   "cell_type": "code",
   "execution_count": null,
   "metadata": {},
   "outputs": [],
   "source": []
  }
 ],
 "metadata": {
  "kernelspec": {
   "display_name": "Python 3",
   "language": "python",
   "name": "python3"
  },
  "language_info": {
   "codemirror_mode": {
    "name": "ipython",
    "version": 3
   },
   "file_extension": ".py",
   "mimetype": "text/x-python",
   "name": "python",
   "nbconvert_exporter": "python",
   "pygments_lexer": "ipython3",
   "version": "3.6.8"
  }
 },
 "nbformat": 4,
 "nbformat_minor": 2
}
